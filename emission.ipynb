{
 "cells": [
  {
   "cell_type": "code",
   "execution_count": 1,
   "metadata": {},
   "outputs": [],
   "source": [
    "import numpy as np"
   ]
  },
  {
   "cell_type": "code",
   "execution_count": 2,
   "metadata": {},
   "outputs": [],
   "source": [
    "train_file=open(\"Data/RU/train\",\"r\")\n",
    "train_words=[]\n",
    "train_tags=[]\n",
    "for l in train_file:\n",
    "    if l!=\"\\n\":\n",
    "        lst=l.split()\n",
    "        x=\"\"\n",
    "        for i in range(len(lst)-1):\n",
    "            x+=lst[i]+\" \"\n",
    "        x=x[0:-1]\n",
    "        y=lst[-1]\n",
    "        train_words.append(x)\n",
    "        train_tags.append(y)\n",
    "train_words=np.array(train_words)\n",
    "train_tags=np.array(train_tags)\n"
   ]
  },
  {
   "cell_type": "code",
   "execution_count": null,
   "metadata": {},
   "outputs": [],
   "source": [
    "def emission_original(x,y,tags,words):\n",
    "    count_y_to_x, count_y = 0, 0\n",
    "    for i in range(len(tags)):\n",
    "        if tags[i] == y:\n",
    "            count_y += 1\n",
    "            if words[i] == x:\n",
    "                count_y_to_x += 1\n",
    "    return (count_y_to_x) / (count_y)"
   ]
  },
  {
   "cell_type": "code",
   "execution_count": 10,
   "metadata": {},
   "outputs": [],
   "source": [
    "def emission(x, y,tags, words=None, k=1):\n",
    "    if x==\"#UNK\":\n",
    "        return k/(np.sum(tags == y)+k)\n",
    "    count_y_to_x, count_y = 0, 0\n",
    "    for i in range(len(tags)):\n",
    "        if tags[i] == y:\n",
    "            count_y += 1\n",
    "            if words[i] == x:\n",
    "                count_y_to_x += 1\n",
    "    return (count_y_to_x) / (count_y + k)"
   ]
  },
  {
   "cell_type": "code",
   "execution_count": 11,
   "metadata": {},
   "outputs": [],
   "source": [
    "train_word_tag = {}\n",
    "for x in np.unique(train_words):\n",
    "    y_max_prob = 0\n",
    "    y_max = \"\"\n",
    "    for y in np.unique(train_tags):\n",
    "        ep = emission(x, y, train_tags,train_words)\n",
    "        if ep > y_max_prob:\n",
    "            y_max_prob = ep\n",
    "            y_max = y\n",
    "    train_word_tag[x] = y_max"
   ]
  },
  {
   "cell_type": "code",
   "execution_count": 12,
   "metadata": {},
   "outputs": [],
   "source": [
    "test_file=open(\"Data/RU/dev.in\",\"r\")\n",
    "pred_output=open(\"Data/RU/dev.p1.out\",\"w+\")\n",
    "for l in test_file:\n",
    "    if l==\"\\n\":\n",
    "        pred_output.write(l)\n",
    "    else:\n",
    "        x=l[0:-1]\n",
    "        if x in train_word_tag:\n",
    "            pred_output.write(x+\" \"+train_word_tag[x]+\"\\n\")\n",
    "        else:\n",
    "            y_max_prob=0\n",
    "            y_max=\"\"\n",
    "            for y in np.unique(train_tags):\n",
    "                ep=emission(\"#UNK\",y,train_tags)\n",
    "                if ep>y_max_prob:\n",
    "                    y_max_prob=ep\n",
    "                    y_max=y\n",
    "            pred_output.write(x+\" \"+y_max+\"\\n\")"
   ]
  },
  {
   "cell_type": "code",
   "execution_count": 13,
   "metadata": {},
   "outputs": [],
   "source": [
    "pred_output.flush()"
   ]
  },
  {
   "cell_type": "code",
   "execution_count": null,
   "metadata": {},
   "outputs": [],
   "source": []
  }
 ],
 "metadata": {
  "kernelspec": {
   "display_name": "Python 3",
   "language": "python",
   "name": "python3"
  },
  "language_info": {
   "codemirror_mode": {
    "name": "ipython",
    "version": 3
   },
   "file_extension": ".py",
   "mimetype": "text/x-python",
   "name": "python",
   "nbconvert_exporter": "python",
   "pygments_lexer": "ipython3",
   "version": "3.11.3"
  },
  "orig_nbformat": 4
 },
 "nbformat": 4,
 "nbformat_minor": 2
}
