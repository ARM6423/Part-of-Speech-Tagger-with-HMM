{
 "cells": [
  {
   "cell_type": "code",
   "execution_count": 2,
   "metadata": {},
   "outputs": [],
   "source": [
    "import numpy as np"
   ]
  },
  {
   "cell_type": "code",
   "execution_count": 3,
   "metadata": {},
   "outputs": [
    {
     "name": "stdout",
     "output_type": "stream",
     "text": [
      "['B-negative' 'B-neutral' 'B-positive' 'I-negative' 'I-neutral'\n",
      " 'I-positive' 'O' 'START' 'STOP']\n"
     ]
    }
   ],
   "source": [
    "train_file=open(\"Data/RU/train\",\"r\")\n",
    "train_words=[]\n",
    "train_tags=[\"START\"]\n",
    "for l in train_file:\n",
    "    if l!=\"\\n\":\n",
    "        lst=l.split()\n",
    "        x=\"\"\n",
    "        for i in range(len(lst)-1):\n",
    "            x+=lst[i]+\" \"\n",
    "        x=x[0:-1]\n",
    "        y=lst[-1]\n",
    "        train_words.append(x)\n",
    "        train_tags.append(y)\n",
    "train_tags.append(\"STOP\")\n",
    "train_words=np.array(train_words)\n",
    "train_tags=np.array(train_tags)"
   ]
  },
  {
   "cell_type": "code",
   "execution_count": 6,
   "metadata": {},
   "outputs": [
    {
     "name": "stdout",
     "output_type": "stream",
     "text": [
      "{('START', 'B-positive'): 1.0, ('B-positive', 'O'): 0.8099084544964997, ('O', 'O'): 0.9382125055519913, ('O', 'B-positive'): 0.04569905739525243, ('B-positive', 'I-positive'): 0.1884760366182014, ('I-positive', 'O'): 0.5845896147403685, ('I-positive', 'I-positive'): 0.4137353433835846, ('O', 'B-negative'): 0.010955929526723585, ('B-negative', 'I-negative'): 0.18468468468468469, ('I-negative', 'I-negative'): 0.41843971631205673, ('I-negative', 'O'): 0.5815602836879432, ('O', 'B-neutral'): 0.00510783200908059, ('B-neutral', 'O'): 0.8647342995169082, ('B-negative', 'O'): 0.8153153153153153, ('B-neutral', 'I-neutral'): 0.13526570048309178, ('I-neutral', 'I-neutral'): 0.5882352941176471, ('I-neutral', 'O'): 0.4117647058823529, ('B-positive', 'B-positive'): 0.0016155088852988692, ('I-positive', 'B-positive'): 0.0016750418760469012, ('O', 'STOP'): 2.4675516952080145e-05}\n"
     ]
    }
   ],
   "source": [
    "def transition(u,v,tags):\n",
    "    count_u=0\n",
    "    count_u_to_v=0\n",
    "    for i in range(len(tags)):\n",
    "        if tags[i]==u:\n",
    "            count_u+=1\n",
    "            if tags[i+1]==v:\n",
    "                count_u_to_v+=1\n",
    "    return count_u_to_v/count_u\n",
    "\n",
    "\n",
    "transition_parameters={}\n",
    "for i in range(len(train_tags)):\n",
    "    if train_tags[i]==\"STOP\":\n",
    "        break\n",
    "    if (train_tags[i],train_tags[i+1]) not in transition_parameters:\n",
    "        transition_parameters[(train_tags[i],train_tags[i+1])]=transition(train_tags[i],train_tags[i+1],train_tags)\n",
    "print(transition_parameters)"
   ]
  },
  {
   "cell_type": "code",
   "execution_count": 8,
   "metadata": {},
   "outputs": [],
   "source": [
    "def emission(x, y,tags, words=None, k=1):\n",
    "    if x==\"#UNK\":\n",
    "        return k/(np.sum(tags == y)+k)\n",
    "    count_y_to_x, count_y = 0, 0\n",
    "    for i in range(len(tags)):\n",
    "        if tags[i] == y:\n",
    "            count_y += 1\n",
    "            if words[i] == x:\n",
    "                count_y_to_x += 1\n",
    "    return (count_y_to_x) / (count_y + k)"
   ]
  },
  {
   "cell_type": "code",
   "execution_count": 4,
   "metadata": {},
   "outputs": [],
   "source": [
    "def viterbi(words,tags):\n",
    "    N = len(words)\n",
    "    T = len(tags)\n",
    "    p=np.zeros((T,N+2))\n",
    "\n",
    "    for i in range(T):\n",
    "        if tags[i]==\"START\":\n",
    "            p[i][0]=1\n",
    "    \n",
    "    for j in range(N):\n",
    "        for u in range(T):\n",
    "            max_prob = 0.0\n",
    "            max_prev_state_index=0\n",
    "            if tags[v]==\"START\" or tags[v]==\"STOP\":\n",
    "                    pass\n",
    "            else:\n",
    "                for v in range(T):  \n",
    "                    if tags[v]==\"START\" or tags[v]==\"STOP\":\n",
    "                        pass\n",
    "                    else:\n",
    "                        prob = p[v][j] * transition(tags[v],tags[u]) * emission(words[j], tags[v])\n",
    "                        if prob > max_prob:\n",
    "                            max_prob = prob\n",
    "                            max_prev_state = j\n",
    "                        p[u][j+1]=max_prob\n",
    "\n",
    "\n"
   ]
  },
  {
   "cell_type": "code",
   "execution_count": null,
   "metadata": {},
   "outputs": [],
   "source": []
  }
 ],
 "metadata": {
  "kernelspec": {
   "display_name": "Python 3",
   "language": "python",
   "name": "python3"
  },
  "language_info": {
   "codemirror_mode": {
    "name": "ipython",
    "version": 3
   },
   "file_extension": ".py",
   "mimetype": "text/x-python",
   "name": "python",
   "nbconvert_exporter": "python",
   "pygments_lexer": "ipython3",
   "version": "3.11.3"
  },
  "orig_nbformat": 4
 },
 "nbformat": 4,
 "nbformat_minor": 2
}
