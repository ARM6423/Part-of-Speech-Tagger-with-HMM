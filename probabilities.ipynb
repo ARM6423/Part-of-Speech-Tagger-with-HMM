{
 "cells": [
  {
   "cell_type": "code",
   "execution_count": 6,
   "metadata": {},
   "outputs": [],
   "source": [
    "import numpy as np\n"
   ]
  },
  {
   "cell_type": "code",
   "execution_count": 7,
   "metadata": {},
   "outputs": [],
   "source": [
    "train_file=open(\"Data/RU/train\",\"r\")\n",
    "train_words=[]\n",
    "train_tags=[\"START\"]\n",
    "for l in train_file:\n",
    "    if l!=\"\\n\":\n",
    "        lst=l.split()\n",
    "        x=\"\"\n",
    "        for i in range(len(lst)-1):\n",
    "            x+=lst[i]+\" \"\n",
    "        x=x[0:-1]\n",
    "        y=lst[-1]\n",
    "        train_words.append(x)\n",
    "        train_tags.append(y)\n",
    "train_tags.append(\"STOP\")\n",
    "train_words=np.array(train_words)\n",
    "train_tags=np.array(train_tags)"
   ]
  },
  {
   "cell_type": "code",
   "execution_count": 8,
   "metadata": {},
   "outputs": [],
   "source": [
    "def transition_helper(u,v,tags):\n",
    "    count_u=0\n",
    "    count_u_to_v=0\n",
    "    for i in range(len(tags)):\n",
    "        if tags[i]==u:\n",
    "            count_u+=1\n",
    "            if tags[i+1]==v:\n",
    "                count_u_to_v+=1\n",
    "    return count_u_to_v/count_u\n",
    "\n",
    "def transition(tags):\n",
    "    transition_parameters={}\n",
    "    for i in range(len(train_tags)):\n",
    "        if train_tags[i]==\"STOP\":\n",
    "            break\n",
    "        if (train_tags[i],train_tags[i+1]) not in transition_parameters:\n",
    "            transition_parameters[(train_tags[i],train_tags[i+1])]=transition_helper(train_tags[i],train_tags[i+1],train_tags)\n",
    "    return transition_parameters"
   ]
  },
  {
   "cell_type": "code",
   "execution_count": null,
   "metadata": {},
   "outputs": [],
   "source": [
    "def emission_helper(x, y,tags, words=None, k=1):\n",
    "    if x==\"#UNK\":\n",
    "        return k/(np.sum(tags == y)+k)\n",
    "    count_y_to_x, count_y = 0, 0\n",
    "    for i in range(len(tags)):\n",
    "        if tags[i] == y:\n",
    "            count_y += 1\n",
    "            if words[i] == x:\n",
    "                count_y_to_x += 1\n",
    "    return (count_y_to_x) / (count_y + k)\n",
    "\n",
    "def emission(tags,words):\n",
    "    emission_matrix=np.shape((len(tags),len(words)))\n",
    "    for x in range(len(np.unique(words))):\n",
    "        y_max_prob = 0\n",
    "        y_max = \"\"\n",
    "        for y in range(len(np.unique(tags))):\n",
    "            ep = emission(x, y,tags,words)\n",
    "            if ep > y_max_prob:\n",
    "                y_max_prob = ep\n",
    "                y_max = y\n",
    "    train_word_tag[x] = {y_max:y_max_prob}\n",
    "    return train_word_tag"
   ]
  },
  {
   "cell_type": "code",
   "execution_count": 5,
   "metadata": {},
   "outputs": [],
   "source": []
  },
  {
   "cell_type": "code",
   "execution_count": 4,
   "metadata": {},
   "outputs": [],
   "source": [
    "def viterbi(words,tags):\n",
    "    N = len(words)\n",
    "    T = len(tags)\n",
    "    p=np.zeros((T,N+2))\n",
    "\n",
    "    for i in range(T):\n",
    "        if tags[i]==\"START\":\n",
    "            p[i][0]=1\n",
    "    \n",
    "    for j in range(N):\n",
    "        for u in range(T):\n",
    "            max_prob = 0.0\n",
    "            max_prev_state_index=0\n",
    "            if tags[v]==\"START\" or tags[v]==\"STOP\":\n",
    "                    pass\n",
    "            else:\n",
    "                for v in range(T):  \n",
    "                    if tags[v]==\"START\" or tags[v]==\"STOP\":\n",
    "                        pass\n",
    "                    else:\n",
    "                        prob = p[v][j] * transition(tags[v],tags[u]) * emission(words[j], tags[v])\n",
    "                        if prob > max_prob:\n",
    "                            max_prob = prob\n",
    "                            max_prev_state = j\n",
    "                        p[u][j+1]=max_prob\n",
    "\n",
    "\n"
   ]
  },
  {
   "cell_type": "code",
   "execution_count": null,
   "metadata": {},
   "outputs": [],
   "source": []
  }
 ],
 "metadata": {
  "kernelspec": {
   "display_name": "Python 3",
   "language": "python",
   "name": "python3"
  },
  "language_info": {
   "codemirror_mode": {
    "name": "ipython",
    "version": 3
   },
   "file_extension": ".py",
   "mimetype": "text/x-python",
   "name": "python",
   "nbconvert_exporter": "python",
   "pygments_lexer": "ipython3",
   "version": "3.11.3"
  },
  "orig_nbformat": 4
 },
 "nbformat": 4,
 "nbformat_minor": 2
}
