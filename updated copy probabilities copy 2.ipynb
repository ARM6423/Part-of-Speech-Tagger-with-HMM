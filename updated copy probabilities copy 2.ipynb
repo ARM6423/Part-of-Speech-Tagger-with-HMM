{
 "cells": [
  {
   "cell_type": "code",
   "execution_count": null,
   "metadata": {},
   "outputs": [],
   "source": [
    "import numpy as np"
   ]
  },
  {
   "cell_type": "code",
   "execution_count": null,
   "metadata": {},
   "outputs": [],
   "source": [
    "train_file=open(\"Data/RU/train\",\"r\")\n",
    "train_words=[]\n",
    "tags=[]\n",
    "for l in train_file:\n",
    "    if l!=\"\\n\":\n",
    "        lst=l.split()\n",
    "        x=\"\"\n",
    "        for i in range(len(lst)-1):\n",
    "            x+=lst[i]+\" \"\n",
    "        x=x[0:-1]\n",
    "        y=lst[-1]\n",
    "        train_words.append(x)\n",
    "        tags.append(y)"
   ]
  },
  {
   "cell_type": "code",
   "execution_count": null,
   "metadata": {},
   "outputs": [],
   "source": [
    "test_file=open(\"Data/RU/dev.in\",\"r\")\n",
    "test_words=[]\n",
    "for l in test_file:\n",
    "    if l!=\"\\n\":\n",
    "        test_words.append(l[0:-1])"
   ]
  },
  {
   "cell_type": "code",
   "execution_count": null,
   "metadata": {},
   "outputs": [],
   "source": [
    "def transition_helper(u,v,tags):\n",
    "    count_u=0\n",
    "    count_u_to_v=0\n",
    "    for i in range(len(tags)):\n",
    "        if tags[i]==u:\n",
    "            count_u+=1\n",
    "            if tags[i+1]==v:\n",
    "                count_u_to_v+=1\n",
    "    return count_u_to_v/count_u\n",
    "\n",
    "def transition(tags):\n",
    "    tags.insert(0,\"START\")\n",
    "    tags.append(\"STOP\")\n",
    "    transition_parameters={}\n",
    "    for i in range(len(tags)):\n",
    "        if tags[i]==\"STOP\":\n",
    "            break\n",
    "        if (tags[i],tags[i+1]) not in transition_parameters:\n",
    "            transition_parameters[(tags[i],tags[i+1])]=transition_helper(tags[i],tags[i+1],tags)\n",
    "    del tags[0]\n",
    "    del tags[-1]\n",
    "    return transition_parameters"
   ]
  },
  {
   "cell_type": "code",
   "execution_count": null,
   "metadata": {},
   "outputs": [],
   "source": [
    "def emission_helper(x, y,tags, words=None, k=1):\n",
    "    count_y=0\n",
    "    if x==\"#UNK#\":\n",
    "        for i in tags:\n",
    "            if i==y:\n",
    "                count_y+=1\n",
    "        return k/(count_y+k)\n",
    "    count_y_to_x=0\n",
    "    for i in range(len(tags)):\n",
    "        if tags[i] == y:\n",
    "            count_y += 1\n",
    "            if words[i] == x:\n",
    "                count_y_to_x += 1\n",
    "    return (count_y_to_x) / (count_y + k)\n",
    "\n",
    "def emission(tags,train_words,test_words):\n",
    "    emission_word_tag={}\n",
    "    for x in np.unique(np.array(test_words)):\n",
    "        y_val={}\n",
    "        for y in np.unique(np.array(tags)):\n",
    "            if x in train_words:\n",
    "                ep = emission_helper(x, y,tags,train_words)\n",
    "                y_val.update({y:ep})\n",
    "            else:\n",
    "                ep = emission_helper(\"#UNK#\", y,tags)\n",
    "                y_val.update({y:ep})\n",
    "        emission_word_tag[x] = y_val\n",
    "    return emission_word_tag"
   ]
  },
  {
   "cell_type": "code",
   "execution_count": null,
   "metadata": {},
   "outputs": [],
   "source": [
    "emission_word_tag=emission(tags,train_words,test_words)\n",
    "transition_parameters=transition(tags)\n",
    "\n",
    "print(emission_word_tag)\n",
    "print(transition_parameters)"
   ]
  },
  {
   "cell_type": "code",
   "execution_count": null,
   "metadata": {},
   "outputs": [],
   "source": [
    "import numpy as np\n",
    "\n",
    "def viterbi(sequence, tags, transition_parameters, emission_parameters):\n",
    "    n = len(sequence)\n",
    "    num_tags = len(tags)\n",
    "\n",
    "    LTR=np.zeros((num_tags,n))\n",
    "    RTL=np.zeros((num_tags,n))\n",
    "\n",
    "\n",
    "    first_word=sequence[0]\n",
    "    for i in range(num_tags):\n",
    "        if (\"START\", tags[i]) not in transition_parameters:\n",
    "            LTR[i, 0] = 1e-10*emission_parameters[first_word][tags[i]]\n",
    "        else:\n",
    "            LTR[i, 0] = transition_parameters[(\"START\", tags[i])] * emission_parameters[first_word][tags[i]]\n",
    "\n",
    "    for w in range(1, n):\n",
    "        for i in range(0,num_tags):\n",
    "            max_prob = -1\n",
    "            max_backpointer = -1\n",
    "            for j in range(0,num_tags):\n",
    "                if (tags[j],tags[i]) not in transition_parameters:\n",
    "                    prob = LTR[j, w-1] * 1e-10 * emission_parameters[sequence[w]][tags[i]]\n",
    "                else:\n",
    "                    prob = LTR[j, w-1] * transition_parameters[(tags[j], tags[i])] * emission_parameters[sequence[w]][tags[i]]\n",
    "\n",
    "                if prob > max_prob:\n",
    "                    max_prob = prob\n",
    "                    max_backpointer = j\n",
    "            \n",
    "            LTR[i, w] = max_prob\n",
    "            RTL[i, w] = max_backpointer\n",
    "    \n",
    "    stop_max_prob = -1\n",
    "    stop_max_backpointer = -1\n",
    "    for i in range(num_tags):\n",
    "        if (tags[i],\"STOP\") not in transition_parameters:\n",
    "            prob = LTR[i, n-1] * 1e-10\n",
    "        else:\n",
    "            prob = LTR[i, n-1] * transition_parameters[(tags[i], \"STOP\")]\n",
    "\n",
    "        if prob > stop_max_prob:\n",
    "            stop_max_prob = prob\n",
    "            stop_max_backpointer = i\n",
    "    \n",
    "    # Retrieve the best path using backpointers\n",
    "    best_path = []\n",
    "    for w in range(n-1,-1,-1):\n",
    "        best_path.insert(0,tags[stop_max_backpointer])\n",
    "        if w==0:\n",
    "            break\n",
    "        stop_max_backpointer=int(RTL[stop_max_backpointer,w])\n",
    "\n",
    "    return best_path\n"
   ]
  },
  {
   "cell_type": "code",
   "execution_count": null,
   "metadata": {},
   "outputs": [],
   "source": [
    "test_file=open(\"Data/RU/dev.in\",\"r\")\n",
    "pred_output=open(\"DATA/RU/dev.p2.out\",\"w\")\n",
    "sequence=[]\n",
    "\n",
    "for l in test_file:\n",
    "    if l!=\"\\n\":\n",
    "        sequence.append(l[0:-1])\n",
    "    else:\n",
    "        predicted_tags=viterbi(sequence,np.unique(tags),transition_parameters,emission_word_tag)\n",
    "        for i in range(0,len(predicted_tags)):\n",
    "            pred_output.write(sequence[i]+\" \"+predicted_tags[i]+\"\\n\")\n",
    "        pred_output.write(l)\n",
    "        pred_output.flush()\n",
    "        sequence=[]"
   ]
  },
  {
   "cell_type": "code",
   "execution_count": null,
   "metadata": {},
   "outputs": [],
   "source": []
  },
  {
   "cell_type": "code",
   "execution_count": null,
   "metadata": {},
   "outputs": [],
   "source": []
  },
  {
   "cell_type": "code",
   "execution_count": null,
   "metadata": {},
   "outputs": [],
   "source": []
  },
  {
   "cell_type": "code",
   "execution_count": null,
   "metadata": {},
   "outputs": [],
   "source": []
  }
 ],
 "metadata": {
  "kernelspec": {
   "display_name": "Python 3",
   "language": "python",
   "name": "python3"
  },
  "language_info": {
   "codemirror_mode": {
    "name": "ipython",
    "version": 3
   },
   "file_extension": ".py",
   "mimetype": "text/x-python",
   "name": "python",
   "nbconvert_exporter": "python",
   "pygments_lexer": "ipython3",
   "version": "3.11.3"
  },
  "orig_nbformat": 4
 },
 "nbformat": 4,
 "nbformat_minor": 2
}
